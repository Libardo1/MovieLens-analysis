{
 "cells": [
  {
   "cell_type": "code",
   "execution_count": 7,
   "metadata": {
    "collapsed": true
   },
   "outputs": [],
   "source": [
    "import lxml.html\n",
    "from lxml.cssselect import CSSSelector"
   ]
  },
  {
   "cell_type": "code",
   "execution_count": 8,
   "metadata": {
    "collapsed": true
   },
   "outputs": [],
   "source": [
    "import requests"
   ]
  },
  {
   "cell_type": "code",
   "execution_count": 14,
   "metadata": {
    "collapsed": true
   },
   "outputs": [],
   "source": [
    "def get_title(node):\n",
    "    h3_elem = node.cssselect('div.feature-item__text h3')[0]\n",
    "    anchor_elem = h3_elem.cssselect('a')\n",
    "    if len(anchor_elem) == 0:\n",
    "        return h3_elem.text_content()\n",
    "    else:\n",
    "        return anchor_elem[0].text_content()"
   ]
  },
  {
   "cell_type": "code",
   "execution_count": 15,
   "metadata": {
    "collapsed": true
   },
   "outputs": [],
   "source": [
    "r = requests.get(\"http://www.timeout.com/london/film/the-50-best-christmas-movies\")"
   ]
  },
  {
   "cell_type": "code",
   "execution_count": 16,
   "metadata": {
    "collapsed": false
   },
   "outputs": [],
   "source": [
    "tree = lxml.html.fromstring(r.text)"
   ]
  },
  {
   "cell_type": "code",
   "execution_count": 29,
   "metadata": {
    "collapsed": false
   },
   "outputs": [],
   "source": [
    "items_selector = CSSSelector('article.feature-item')\n",
    "all_items = items_selector(tree)\n",
    "\n",
    "h3_titles = [get_title(item) for item in all_items[0:50]]"
   ]
  },
  {
   "cell_type": "code",
   "execution_count": 30,
   "metadata": {
    "collapsed": false
   },
   "outputs": [
    {
     "data": {
      "text/plain": [
       "['The Santa Clause (1994)',\n",
       " 'Reindeer Games (2000)',\n",
       " 'The Family Stone (2005)',\n",
       " 'Love Actually (2003)',\n",
       " 'Merry Christmas Mr Lawrence (1983)',\n",
       " u'\\n                                            Joyeux No\\xebl (2005)\\n                                        ',\n",
       " '\\n                                            Christmas in Connecticut (1945)\\n                                        ',\n",
       " 'The Polar Express (2004)',\n",
       " 'A Christmas Story (1983)',\n",
       " 'The Holiday (2006)',\n",
       " 'Planes, Trains and Automobiles (1987)',\n",
       " 'Lethal Weapon (1987)',\n",
       " 'Ghostbusters II (1989)',\n",
       " '\\n                                            Prancer (1989)\\n                                        ',\n",
       " 'Holiday Inn (1942)',\n",
       " 'White Christmas (1954)',\n",
       " u'\\n                                            Mickey\\u2019s Christmas Carol (1983)\\n                                        ',\n",
       " u'National Lampoon\\u2019s Christmas Vacation (1989)',\n",
       " '\\n                                            Babes In Toyland (1934)\\n                                        ',\n",
       " u'\\n                                            \\u2019R-Xmas (2001)\\n                                        ',\n",
       " 'Meet Me In St Louis (1944)',\n",
       " 'About a Boy (2002)',\n",
       " 'Christmas Evil (1980)',\n",
       " 'Die Hard (1988)',\n",
       " 'Die Hard 2 (1990)',\n",
       " '\\n                                            A Christmas Carol (1938)\\n                                        ',\n",
       " 'While You Were Sleeping (1995)',\n",
       " 'Arthur Christmas (2011)',\n",
       " 'Trading Places (1983)',\n",
       " 'Brazil (1985)',\n",
       " u'Bridget Jones\\u2019 Diary (2001) ',\n",
       " 'The Nightmare Before Christmas (1993)',\n",
       " 'The Muppet Christmas Carol (1992)',\n",
       " 'How The Grinch Stole Christmas (2000)',\n",
       " 'The Long Kiss Goodnight (1996)',\n",
       " 'In Bruges (2008)',\n",
       " 'Miracle on 34th Street (1947)',\n",
       " 'The Chronicles Of Narnia: The Lion, The Witch and the Wardrobe (2005)',\n",
       " '8 Women (2001)',\n",
       " 'Scrooged (1988)',\n",
       " 'Batman Returns (1992)',\n",
       " 'A Charlie Brown Christmas (1965)',\n",
       " 'Kiss Kiss Bang Bang (2005)',\n",
       " 'The Snowman (1982)',\n",
       " 'Edward Scissorhands (1990)',\n",
       " 'Home Alone (1990)',\n",
       " 'Gremlins (1984)',\n",
       " 'Bad Santa (2003)',\n",
       " 'Elf (2003)',\n",
       " u'It\\u2019s a Wonderful Life (1946)']"
      ]
     },
     "execution_count": 30,
     "metadata": {},
     "output_type": "execute_result"
    }
   ],
   "source": [
    "h3_titles"
   ]
  },
  {
   "cell_type": "code",
   "execution_count": 39,
   "metadata": {
    "collapsed": false
   },
   "outputs": [],
   "source": [
    "titles = [t.replace('\\n', '').strip() for t in h3_titles]"
   ]
  },
  {
   "cell_type": "code",
   "execution_count": 42,
   "metadata": {
    "collapsed": false
   },
   "outputs": [],
   "source": [
    "titles = [t.encode('utf8').replace('\\xe2\\x80\\x99', '\\'') for t in titles]"
   ]
  },
  {
   "cell_type": "code",
   "execution_count": 56,
   "metadata": {
    "collapsed": false
   },
   "outputs": [
    {
     "data": {
      "text/plain": [
       "'Santa Clause, The (1994)'"
      ]
     },
     "execution_count": 56,
     "metadata": {},
     "output_type": "execute_result"
    }
   ],
   "source": [
    "import re\n",
    "t = re.sub(r'^The ', '', titles[0])\n",
    "t[:-7] + \", The\" + t[-7:]"
   ]
  },
  {
   "cell_type": "code",
   "execution_count": 65,
   "metadata": {
    "collapsed": false
   },
   "outputs": [
    {
     "name": "stdout",
     "output_type": "stream",
     "text": [
      "The Santa Clause (1994)\n",
      "The Family Stone (2005)\n",
      "The Polar Express (2004)\n",
      "The Holiday (2006)\n",
      "The Nightmare Before Christmas (1993)\n",
      "The Muppet Christmas Carol (1992)\n",
      "The Long Kiss Goodnight (1996)\n",
      "The Chronicles Of Narnia: The Lion, The Witch and the Wardrobe (2005)\n",
      "The Snowman (1982)\n"
     ]
    }
   ],
   "source": [
    "for t in titles:\n",
    "    if re.match(\"^The\", t):\n",
    "        print t"
   ]
  },
  {
   "cell_type": "code",
   "execution_count": 69,
   "metadata": {
    "collapsed": false
   },
   "outputs": [],
   "source": [
    "for i, t in enumerate(titles):\n",
    "    if re.match(\"^The\", t):\n",
    "        t = re.sub(r'^The ', '', t)\n",
    "        titles[i] = t[:-7] + \", The\" + t[-7:]"
   ]
  },
  {
   "cell_type": "code",
   "execution_count": null,
   "metadata": {
    "collapsed": true
   },
   "outputs": [],
   "source": [
    "for i, t in enumerate(titles):\n",
    "    if re.match(\"^A\", t):\n",
    "        t = re.sub(r'^A ', '', t)\n",
    "        titles[i] = t[:-7] + \", A\" + t[-7:]"
   ]
  },
  {
   "cell_type": "code",
   "execution_count": null,
   "metadata": {
    "collapsed": true
   },
   "outputs": [],
   "source": [
    "titles[5] = titles[5].replace('Joyeux No\\xc3\\xabl (2005)', \n",
    "                              'Joyeux')"
   ]
  },
  {
   "cell_type": "code",
   "execution_count": 77,
   "metadata": {
    "collapsed": false
   },
   "outputs": [
    {
     "data": {
      "text/plain": [
       "['Santa Clause, The (1994)',\n",
       " 'Reindeer Games (2000)',\n",
       " 'Family Stone, The (2005)',\n",
       " 'Love Actually (2003)',\n",
       " 'Merry Christmas Mr Lawrence (1983)',\n",
       " 'Joyeux',\n",
       " 'Christmas in Connecticut (1945)',\n",
       " 'Polar Express, The (2004)',\n",
       " 'Christmas Story, A (1983)',\n",
       " 'Holiday, The (2006)',\n",
       " 'Planes, Trains and Automobiles (1987)',\n",
       " 'Lethal Weapon (1987)',\n",
       " 'Ghostbusters II (1989)',\n",
       " 'Prancer (1989)',\n",
       " 'Holiday Inn (1942)',\n",
       " 'White Christmas (1954)',\n",
       " \"Mickey's Christmas Carol (1983)\",\n",
       " \"National Lampoon's Christmas Vacation (1989)\",\n",
       " 'Babes In Toyland (1934)',\n",
       " \"'R-Xmas (2001)\",\n",
       " 'Meet Me In St Louis (1944)',\n",
       " 'About a Boy, A (2002)',\n",
       " 'Christmas Evil (1980)',\n",
       " 'Die Hard (1988)',\n",
       " 'Die Hard 2 (1990)',\n",
       " 'Christmas Carol, A (1938)',\n",
       " 'While You Were Sleeping (1995)',\n",
       " 'Arthur Christmas, A (2011)',\n",
       " 'Trading Places (1983)',\n",
       " 'Brazil (1985)',\n",
       " \"Bridget Jones' Diary (2001)\",\n",
       " 'Nightmare Before Christmas, The (1993)',\n",
       " 'Muppet Christmas Carol, The (1992)',\n",
       " 'How The Grinch Stole Christmas (2000)',\n",
       " 'Long Kiss Goodnight, The (1996)',\n",
       " 'In Bruges (2008)',\n",
       " 'Miracle on 34th Street (1947)',\n",
       " 'Chronicles Of Narnia: The Lion, The Witch and the Wardrobe, The (2005)',\n",
       " '8 Women (2001)',\n",
       " 'Scrooged (1988)',\n",
       " 'Batman Returns (1992)',\n",
       " 'Charlie Brown Christmas, A (1965)',\n",
       " 'Kiss Kiss Bang Bang (2005)',\n",
       " 'Snowman, The (1982)',\n",
       " 'Edward Scissorhands (1990)',\n",
       " 'Home Alone (1990)',\n",
       " 'Gremlins (1984)',\n",
       " 'Bad Santa (2003)',\n",
       " 'Elf (2003)',\n",
       " \"It's a Wonderful Life (1946)\"]"
      ]
     },
     "execution_count": 77,
     "metadata": {},
     "output_type": "execute_result"
    }
   ],
   "source": [
    "titles"
   ]
  },
  {
   "cell_type": "code",
   "execution_count": 84,
   "metadata": {
    "collapsed": false
   },
   "outputs": [],
   "source": [
    "f = open(\"christmas_movies.txt\", \"w\")\n",
    "f.write(\"\\n\".join(map(lambda x: str(x), titles)))\n",
    "f.close()"
   ]
  },
  {
   "cell_type": "code",
   "execution_count": null,
   "metadata": {
    "collapsed": false
   },
   "outputs": [],
   "source": []
  },
  {
   "cell_type": "code",
   "execution_count": 41,
   "metadata": {
    "collapsed": false
   },
   "outputs": [],
   "source": [
    "import mysql.connector"
   ]
  },
  {
   "cell_type": "code",
   "execution_count": 32,
   "metadata": {
    "collapsed": false
   },
   "outputs": [],
   "source": [
    "cnx = mysql.connector.connect(user='Jodie', password='j0d1e',\n",
    "                              host='192.168.99.100',\n",
    "                              database='MovieLens', \n",
    "                              port = 32772)"
   ]
  },
  {
   "cell_type": "code",
   "execution_count": 33,
   "metadata": {
    "collapsed": false
   },
   "outputs": [
    {
     "name": "stdout",
     "output_type": "stream",
     "text": [
      "Movie 3988 is called How the Grinch Stole Christmas (a.k.a. The Grinch) (2000) and has genres Children|Comedy|Fantasy\n"
     ]
    }
   ],
   "source": [
    "cursor = cnx.cursor()\n",
    "\n",
    "query = (\"SELECT * FROM movies WHERE itemid = 3988\")\n",
    "\n",
    "cursor.execute(query)\n",
    "\n",
    "for (itemid, title, genres) in cursor:\n",
    "  print(\"Movie {} is called {} and has genres {}\".format(\n",
    "    itemid, title, genres))"
   ]
  },
  {
   "cell_type": "code",
   "execution_count": null,
   "metadata": {
    "collapsed": true
   },
   "outputs": [],
   "source": []
  }
 ],
 "metadata": {
  "kernelspec": {
   "display_name": "Python 2",
   "language": "python",
   "name": "python2"
  },
  "language_info": {
   "codemirror_mode": {
    "name": "ipython",
    "version": 2
   },
   "file_extension": ".py",
   "mimetype": "text/x-python",
   "name": "python",
   "nbconvert_exporter": "python",
   "pygments_lexer": "ipython2",
   "version": "2.7.11"
  }
 },
 "nbformat": 4,
 "nbformat_minor": 0
}
